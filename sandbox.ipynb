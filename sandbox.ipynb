{
 "metadata": {
  "language_info": {
   "codemirror_mode": {
    "name": "ipython",
    "version": 3
   },
   "file_extension": ".py",
   "mimetype": "text/x-python",
   "name": "python",
   "nbconvert_exporter": "python",
   "pygments_lexer": "ipython3",
   "version": "3.7.5"
  },
  "orig_nbformat": 2,
  "kernelspec": {
   "name": "python375jvsc74a57bd093e6e8e401298d4741d2f610525c8ba930a87f2517c1fdf835219324ae6f3fd7",
   "display_name": "Python 3.7.5 64-bit"
  }
 },
 "nbformat": 4,
 "nbformat_minor": 2,
 "cells": [
  {
   "cell_type": "code",
   "execution_count": 1,
   "metadata": {},
   "outputs": [],
   "source": [
    "import sys\n",
    "sys.path.append(r'E:\\Users\\rohan\\Documents\\GitHub\\AdamES')"
   ]
  },
  {
   "cell_type": "code",
   "execution_count": 4,
   "metadata": {},
   "outputs": [
    {
     "output_type": "stream",
     "name": "stderr",
     "text": [
      "C:\\Users\\rohan\\AppData\\Local\\Programs\\Python\\Python37\\lib\\importlib\\_bootstrap.py:219: RuntimeWarning: numpy.ufunc size changed, may indicate binary incompatibility. Expected 192 from C header, got 216 from PyObject\n",
      "  return f(*args, **kwds)\n",
      "C:\\Users\\rohan\\AppData\\Local\\Programs\\Python\\Python37\\lib\\importlib\\_bootstrap.py:219: RuntimeWarning: numpy.ufunc size changed, may indicate binary incompatibility. Expected 192 from C header, got 216 from PyObject\n",
      "  return f(*args, **kwds)\n"
     ]
    }
   ],
   "source": [
    "from es import ES\n",
    "from adames import AdamES\n",
    "from matplotlib import pyplot as plt \n",
    "import seaborn as sns\n",
    "import numpy as np"
   ]
  },
  {
   "cell_type": "code",
   "execution_count": 22,
   "metadata": {},
   "outputs": [],
   "source": [
    "class Environment(object):\n",
    "  def f1(self, x1, x2):\n",
    "    return (x1**4) + (x1*x2) + (0.5*(x2**2))\n",
    "\n",
    "  def f2(self, x):\n",
    "    return x**2\n",
    "\n",
    "  def matyas(self, x1, x2):\n",
    "    return 0.26*((x1**2) + (x2**2)) - 0.48*x1*x2\n",
    "\n",
    "  def ackley(self, x1, x2):\n",
    "    return -20 * np.exp(-0.2*np.sqrt(0.5*((x1**2) + (x2**2)))) - np.exp(0.5*(np.cos(2*np.pi*x1) + np.cos(2*np.pi*x2))) + np.exp(1) + 20\n",
    "\n",
    "  def step(self, features):\n",
    "    return _, -self.ackley(features[0], features[1]), _"
   ]
  },
  {
   "cell_type": "code",
   "execution_count": 23,
   "metadata": {},
   "outputs": [],
   "source": [
    "env = Environment()\n",
    "action_ranges = [None, None]"
   ]
  },
  {
   "cell_type": "code",
   "execution_count": 57,
   "metadata": {},
   "outputs": [],
   "source": [
    "agent = ES(env=env,\n",
    "           num_actions=2,\n",
    "           sigma=0.35,\n",
    "           alpha=0.05,\n",
    "           action_ranges=action_ranges,\n",
    ")\n",
    "\n",
    "predicted_vars = agent.optimize(num_episodes=2500,\n",
    "                                batch_size=100,\n",
    "                                starting_point=[10, 10],\n",
    "                                plot=1,\n",
    "                                verbose=0)"
   ]
  },
  {
   "cell_type": "code",
   "execution_count": 56,
   "metadata": {},
   "outputs": [],
   "source": [
    "agent = AdamES(env=env,\n",
    "           num_actions=2,\n",
    "           sigma=0.35,\n",
    "           alpha=0.0375,\n",
    "           action_ranges=action_ranges,\n",
    ")\n",
    "\n",
    "predicted_vars = agent.optimize(num_episode=500,\n",
    "                                batch_size=100,\n",
    "                                starting_point=[10, 10],\n",
    "                                plot=1,\n",
    "                                verbose=0)"
   ]
  },
  {
   "cell_type": "code",
   "execution_count": null,
   "metadata": {},
   "outputs": [],
   "source": []
  }
 ]
}